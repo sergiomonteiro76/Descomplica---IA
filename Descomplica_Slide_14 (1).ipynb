{
  "nbformat": 4,
  "nbformat_minor": 0,
  "metadata": {
    "colab": {
      "provenance": []
    },
    "kernelspec": {
      "name": "python3",
      "display_name": "Python 3"
    },
    "language_info": {
      "name": "python"
    }
  },
  "cells": [
    {
      "cell_type": "markdown",
      "source": [
        "# **Módulos e Matrizes em Python**\n",
        "\n",
        "**prof: Sergio Assuncao Monteiro, DSc**\n",
        "\n",
        "linkedin: https://www.linkedin.com/in/sergio-assun%C3%A7%C3%A3o-monteiro-b781897b/\n",
        "\n",
        "lattes: http://lattes.cnpq.br/9489191035734025"
      ],
      "metadata": {
        "id": "rg8V8yuD--6-"
      }
    },
    {
      "cell_type": "markdown",
      "source": [
        "# **Matrizes**"
      ],
      "metadata": {
        "id": "CteIxDfEBCcR"
      }
    },
    {
      "cell_type": "markdown",
      "source": [
        "**Exemplo de vetor**"
      ],
      "metadata": {
        "id": "S6-3H_Th_XRJ"
      }
    },
    {
      "cell_type": "code",
      "execution_count": 2,
      "metadata": {
        "id": "yzl_6sbC-yX5",
        "colab": {
          "base_uri": "https://localhost:8080/"
        },
        "outputId": "b517f65b-8fc2-4961-bd27-ba553039e1a2"
      },
      "outputs": [
        {
          "output_type": "stream",
          "name": "stdout",
          "text": [
            "num = [1, 2, 3, 4, 5]\n",
            "1 2 3 4 5 "
          ]
        }
      ],
      "source": [
        "# Exemplo de lista\n",
        "num = [1, 2, 3, 4, 5]\n",
        "print(f'num = {num}')\n",
        "#Mostrando pelo for:\n",
        "for x in num:\n",
        "    print(x,end=' ')\n"
      ]
    },
    {
      "cell_type": "markdown",
      "source": [
        "**Exemplo de vetor 2:**"
      ],
      "metadata": {
        "id": "_RrpMwKT_abw"
      }
    },
    {
      "cell_type": "code",
      "source": [
        "num = [0,0,0,0,0]\n",
        "for i in range(5):\n",
        "    num[i] = int(input('Digite um número: '))\n",
        "\n",
        "print(num)"
      ],
      "metadata": {
        "colab": {
          "base_uri": "https://localhost:8080/"
        },
        "id": "G_ZMLrKn_jJV",
        "outputId": "6fd2ca82-4c69-4273-d28b-18d00b94a366"
      },
      "execution_count": 5,
      "outputs": [
        {
          "output_type": "stream",
          "name": "stdout",
          "text": [
            "Digite um número: 5\n",
            "Digite um número: 6\n",
            "Digite um número: 8\n",
            "Digite um número: 7\n",
            "Digite um número: 9\n",
            "[5, 6, 8, 7, 9]\n"
          ]
        }
      ]
    },
    {
      "cell_type": "markdown",
      "source": [
        "**Exemplo de Matriz**"
      ],
      "metadata": {
        "id": "m0itIbjK_p-1"
      }
    },
    {
      "cell_type": "code",
      "source": [
        "# Exemplo de Matriz:\n",
        "matriz = [[0,0],[0,0],[0,0]]\n",
        "print(matriz)\n",
        "for i in range(3):\n",
        "    for j in range(2):\n",
        "        matriz[i][j] = int(input('Digite um número: '))\n",
        "print(matriz)"
      ],
      "metadata": {
        "colab": {
          "base_uri": "https://localhost:8080/"
        },
        "id": "HjEvyHes_ygT",
        "outputId": "8bb96ca8-a18a-4fe1-b434-b24ee9d05be1"
      },
      "execution_count": null,
      "outputs": [
        {
          "output_type": "stream",
          "name": "stdout",
          "text": [
            "[[0, 0], [0, 0], [0, 0]]\n",
            "Digite um número: 1\n",
            "Digite um número: 2\n",
            "Digite um número: 2\n",
            "Digite um número: 5\n",
            "Digite um número: 9\n",
            "Digite um número: 4\n",
            "[[1, 2], [2, 5], [9, 4]]\n"
          ]
        }
      ]
    },
    {
      "cell_type": "markdown",
      "source": [
        "# **Modularização**"
      ],
      "metadata": {
        "id": "wZ3D0E6fBxao"
      }
    },
    {
      "cell_type": "markdown",
      "source": [
        "**Procedimento sem parâmetro**"
      ],
      "metadata": {
        "id": "h-augIFnCCIU"
      }
    },
    {
      "cell_type": "code",
      "source": [
        "def ola():\n",
        "    print(\"Olá, bem-vindo ao estudo de Python\")\n",
        "\n",
        "# chamada do módulo:\n",
        "ola()\n",
        "print('Fim do procedimento')"
      ],
      "metadata": {
        "colab": {
          "base_uri": "https://localhost:8080/"
        },
        "id": "eFxEc8sCCI_k",
        "outputId": "bed00935-eafe-4899-acda-f8ab5f20d1e3"
      },
      "execution_count": 7,
      "outputs": [
        {
          "output_type": "stream",
          "name": "stdout",
          "text": [
            "Olá, bem-vindo ao estudo de Python\n",
            "Fim do procedimento\n"
          ]
        }
      ]
    },
    {
      "cell_type": "markdown",
      "source": [
        "**Função sem parâmetro**"
      ],
      "metadata": {
        "id": "WdhUT7V4A5t9"
      }
    },
    {
      "cell_type": "code",
      "source": [
        "def soma():\n",
        "    n1 = int(input('Digite um número: '))\n",
        "    n2 = int(input('Digite outro número: '))\n",
        "    s = n1+n2\n",
        "    return s\n",
        "\n",
        "#módulo principal:\n",
        "s = soma()\n",
        "print(f'Resultado da soma: {s}')\n"
      ],
      "metadata": {
        "colab": {
          "base_uri": "https://localhost:8080/"
        },
        "id": "ZaO3UeLBBDrq",
        "outputId": "e7f1e964-00ee-4538-ab44-b8d466a50d3a"
      },
      "execution_count": 9,
      "outputs": [
        {
          "output_type": "stream",
          "name": "stdout",
          "text": [
            "Digite um número: 5\n",
            "Digite outro número: 10\n",
            "Resultado da soma: 15\n"
          ]
        }
      ]
    },
    {
      "cell_type": "markdown",
      "source": [
        "**Função com parâmetro**"
      ],
      "metadata": {
        "id": "L8yemclKBR9Y"
      }
    },
    {
      "cell_type": "code",
      "source": [
        "def soma(n1, n2):\n",
        "    s = n1+n2\n",
        "    return s\n",
        "\n",
        "#módulo principal:\n",
        "n1 = int(input('Digite um número: '))\n",
        "n2 = int(input('Digite outro número: '))\n",
        "s = soma(n1, n2)\n",
        "print(f'Resultado da soma: {s}')\n"
      ],
      "metadata": {
        "colab": {
          "base_uri": "https://localhost:8080/"
        },
        "id": "PCBM_EU0BRr3",
        "outputId": "fbbd3912-9964-45ca-f910-3f39c61d38a4"
      },
      "execution_count": 10,
      "outputs": [
        {
          "output_type": "stream",
          "name": "stdout",
          "text": [
            "Digite um número: 10\n",
            "Digite outro número: 5\n",
            "Resultado da soma: 15\n"
          ]
        }
      ]
    },
    {
      "cell_type": "markdown",
      "source": [
        "# **Exemplo e Atividade Prática 04**"
      ],
      "metadata": {
        "id": "K5oSFAI3BuDb"
      }
    },
    {
      "cell_type": "markdown",
      "source": [
        "**Vamos fazer um programa que armazena 9 números digitados em uma matriz de 3x3, verificar qual o maior número da matriz e calcular a soma entre os números. Fazer um módulo para cada operação.**"
      ],
      "metadata": {
        "id": "byzstK9WFNQJ"
      }
    },
    {
      "cell_type": "code",
      "source": [
        "#Exemplo 4\n",
        "def preenche(matriz):\n",
        "  for i in range(3):\n",
        "    for j in range(3):\n",
        "      matriz[i][j]=int(input('Digite um número: '))\n",
        "  matriz\n",
        "  return matriz"
      ],
      "metadata": {
        "id": "CanF8olnBwYq"
      },
      "execution_count": 11,
      "outputs": []
    },
    {
      "cell_type": "code",
      "source": [
        "def verifica_maior(matriz):\n",
        "  maior=matriz[0][0]\n",
        "  for i in range(3):\n",
        "    for j in range(3):\n",
        "      if(matriz[i][j]>maior):\n",
        "        maior=matriz[i][j]\n",
        "  return maior"
      ],
      "metadata": {
        "id": "9kUaG0dlFUIX"
      },
      "execution_count": 12,
      "outputs": []
    },
    {
      "cell_type": "code",
      "source": [
        "def soma(matriz):\n",
        "  s=0\n",
        "  for i in range(3):\n",
        "    for j in range(3):\n",
        "      s = s + matriz[i][j]\n",
        "  return s"
      ],
      "metadata": {
        "id": "UvByceM0FUhX"
      },
      "execution_count": 13,
      "outputs": []
    },
    {
      "cell_type": "code",
      "source": [
        "#módulo principal\n",
        "matriz=[[0,0,0],[0,0,0],[0,0,0]]\n",
        "preenche(matriz)\n",
        "maior=verifica_maior(matriz)\n",
        "s=soma(matriz)\n",
        "print(matriz)\n",
        "print('Maior valor: ', maior)\n",
        "print('Soma: ',s)"
      ],
      "metadata": {
        "colab": {
          "base_uri": "https://localhost:8080/"
        },
        "id": "NkJmNVz3FcfV",
        "outputId": "5374befc-10d0-459d-9c21-9cbac46a5d4a"
      },
      "execution_count": 15,
      "outputs": [
        {
          "output_type": "stream",
          "name": "stdout",
          "text": [
            "Digite um número: 1\n",
            "Digite um número: 2\n",
            "Digite um número: 3\n",
            "Digite um número: 4\n",
            "Digite um número: 5\n",
            "Digite um número: 6\n",
            "Digite um número: 7\n",
            "Digite um número: 8\n",
            "Digite um número: 9\n",
            "[[1, 2, 3], [4, 5, 6], [7, 8, 9]]\n",
            "Maior valor:  9\n",
            "Soma:  45\n"
          ]
        }
      ]
    },
    {
      "cell_type": "markdown",
      "source": [
        "# **Exemplo da Solução 04**"
      ],
      "metadata": {
        "id": "PWhFtw55GAvv"
      }
    },
    {
      "cell_type": "markdown",
      "source": [
        "**Desenvolva um programa em Python que recebe dez números inteiros, armazena-os num vetor e verifica e mostra se cada número é primo ou não.**"
      ],
      "metadata": {
        "id": "OmLTrCroF70o"
      }
    },
    {
      "cell_type": "code",
      "source": [
        "lista=[]\n",
        "for i in range(10):\n",
        "  lista.append(int(input('Digite um número: ')))"
      ],
      "metadata": {
        "colab": {
          "base_uri": "https://localhost:8080/"
        },
        "id": "qZqiLeZ9GGa2",
        "outputId": "b3d3a0b2-b336-4480-dc37-789c14fa9048"
      },
      "execution_count": 17,
      "outputs": [
        {
          "name": "stdout",
          "output_type": "stream",
          "text": [
            "Digite um número: 1\n",
            "Digite um número: 2\n",
            "Digite um número: 3\n",
            "Digite um número: 4\n",
            "Digite um número: 5\n",
            "Digite um número: 6\n",
            "Digite um número: 7\n",
            "Digite um número: 8\n",
            "Digite um número: 9\n",
            "Digite um número: 10\n"
          ]
        }
      ]
    },
    {
      "cell_type": "code",
      "source": [
        "import numpy as np\n",
        "def fPrimo(num):\n",
        "  if(num<2):\n",
        "    print(f'O número {num} NÃO é primo')\n",
        "    return\n",
        "\n",
        "  x = np.round(num/2)\n",
        "  ehPrimo = True\n",
        "  while x>1:\n",
        "    if(num % x == 0):\n",
        "      ehPrimo = False\n",
        "      break\n",
        "    x = x -1\n",
        "  if(ehPrimo):\n",
        "    print(f'O número {num} é primo')\n",
        "  else:\n",
        "    print(f'O número {num} NÃO é primo')"
      ],
      "metadata": {
        "id": "-dZK12luGrU3"
      },
      "execution_count": 20,
      "outputs": []
    },
    {
      "cell_type": "code",
      "source": [
        "for elem in lista:\n",
        "  fPrimo(elem)"
      ],
      "metadata": {
        "colab": {
          "base_uri": "https://localhost:8080/"
        },
        "id": "KAYfQS6VHPrQ",
        "outputId": "e1e6dc58-123f-4c27-9152-9db036b7f6ba"
      },
      "execution_count": 21,
      "outputs": [
        {
          "output_type": "stream",
          "name": "stdout",
          "text": [
            "O número 1 NÃO é primo\n",
            "O número 2 é primo\n",
            "O número 3 é primo\n",
            "O número 4 NÃO é primo\n",
            "O número 5 é primo\n",
            "O número 6 NÃO é primo\n",
            "O número 7 é primo\n",
            "O número 8 NÃO é primo\n",
            "O número 9 NÃO é primo\n",
            "O número 10 NÃO é primo\n"
          ]
        }
      ]
    }
  ]
}