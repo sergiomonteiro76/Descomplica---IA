{
  "nbformat": 4,
  "nbformat_minor": 0,
  "metadata": {
    "colab": {
      "provenance": []
    },
    "kernelspec": {
      "name": "python3",
      "display_name": "Python 3"
    },
    "language_info": {
      "name": "python"
    }
  },
  "cells": [
    {
      "cell_type": "markdown",
      "source": [
        "# **Introdução IA em Python**\n",
        "\n",
        "**prof: Sergio Assuncao Monteiro, DSc**\n",
        "\n",
        "linkedin: https://www.linkedin.com/in/sergio-assun%C3%A7%C3%A3o-monteiro-b781897b/\n",
        "\n",
        "lattes: http://lattes.cnpq.br/9489191035734025"
      ],
      "metadata": {
        "id": "CpFYU27xIFd4"
      }
    },
    {
      "cell_type": "markdown",
      "source": [
        "# **Primeiro Programa Python com IA**"
      ],
      "metadata": {
        "id": "VjpfkhZtIMst"
      }
    },
    {
      "cell_type": "code",
      "execution_count": 1,
      "metadata": {
        "id": "lELLHqJA4Dnq",
        "colab": {
          "base_uri": "https://localhost:8080/"
        },
        "outputId": "43f927ed-f774-4d85-f6c7-cbbb68d66bbe"
      },
      "outputs": [
        {
          "output_type": "stream",
          "name": "stdout",
          "text": [
            "219 \n",
            "\n",
            "[29 67] \n",
            "\n",
            "[[19 22]\n",
            " [43 50]]\n"
          ]
        }
      ],
      "source": [
        "# Programa python usando\n",
        "# a biblioteca Numpy para\n",
        "# realizar algumas operações básicas\n",
        "\n",
        "import numpy as np \n",
        "\n",
        "# Criando duas matriz de duas dimensões\n",
        "x = np.array([[1, 2], [3, 4]])\n",
        "y = np.array([[5, 6], [7, 8]])\n",
        "\n",
        "# Criando duas matrizes de um dimensão\n",
        "v = np.array([9, 10])\n",
        "w = np.array([11, 12])\n",
        "\n",
        "# Produto interno de vetores\n",
        "print(np.dot(v, w), \"\\n\")\n",
        "\n",
        "# Produto de matriz e vetor\n",
        "print(np.dot(x, v), \"\\n\")\n",
        "\n",
        "# Matriz e produto da matriz\n",
        "print(np.dot(x, y))\n"
      ]
    },
    {
      "cell_type": "markdown",
      "source": [
        "**Exemplo com Scikit-learn**"
      ],
      "metadata": {
        "id": "QebTBbNWIt5P"
      }
    },
    {
      "cell_type": "code",
      "source": [
        "from sklearn import datasets\n",
        "from sklearn import metrics\n",
        "from sklearn.tree import DecisionTreeClassifier"
      ],
      "metadata": {
        "id": "oA2uJilHIr3I"
      },
      "execution_count": 2,
      "outputs": []
    },
    {
      "cell_type": "code",
      "source": [
        "#carregar dados da iris\n",
        "dataset = datasets.load_iris()"
      ],
      "metadata": {
        "id": "na9jYUCCJnW-"
      },
      "execution_count": 3,
      "outputs": []
    },
    {
      "cell_type": "code",
      "source": [
        "#ajustar um modelo CART aos dados\n",
        "model = DecisionTreeClassifier()\n",
        "model.fit(dataset.data, dataset.target)\n",
        "print(model)"
      ],
      "metadata": {
        "colab": {
          "base_uri": "https://localhost:8080/"
        },
        "id": "0F8P5wk0Jn7V",
        "outputId": "5fe6f266-f6e7-46a5-b894-481051ca2dd6"
      },
      "execution_count": 4,
      "outputs": [
        {
          "output_type": "stream",
          "name": "stdout",
          "text": [
            "DecisionTreeClassifier()\n"
          ]
        }
      ]
    },
    {
      "cell_type": "code",
      "source": [
        "#fazer previsões\n",
        "expected = dataset.target\n",
        "predicted = model.predict(dataset.data)"
      ],
      "metadata": {
        "id": "o53laiBXJ5CC"
      },
      "execution_count": 5,
      "outputs": []
    },
    {
      "cell_type": "code",
      "source": [
        "#resumir o ajuste do modelo\n",
        "print(metrics.classification_report(expected, predicted))\n",
        "print(metrics.confusion_matrix(expected, predicted))"
      ],
      "metadata": {
        "colab": {
          "base_uri": "https://localhost:8080/"
        },
        "id": "joUYSatUKDoY",
        "outputId": "0e44e4f0-0971-420f-be77-1cc6eac98e91"
      },
      "execution_count": 6,
      "outputs": [
        {
          "output_type": "stream",
          "name": "stdout",
          "text": [
            "              precision    recall  f1-score   support\n",
            "\n",
            "           0       1.00      1.00      1.00        50\n",
            "           1       1.00      1.00      1.00        50\n",
            "           2       1.00      1.00      1.00        50\n",
            "\n",
            "    accuracy                           1.00       150\n",
            "   macro avg       1.00      1.00      1.00       150\n",
            "weighted avg       1.00      1.00      1.00       150\n",
            "\n",
            "[[50  0  0]\n",
            " [ 0 50  0]\n",
            " [ 0  0 50]]\n"
          ]
        }
      ]
    },
    {
      "cell_type": "markdown",
      "source": [
        "# **Algoritmo KNN**"
      ],
      "metadata": {
        "id": "FPTnoGNDKdcz"
      }
    },
    {
      "cell_type": "code",
      "source": [
        "# livros [ didático, poesia, ficção, auto-ajuda, economia]\n",
        "'''\n",
        "característica 1 = O livro é de fácil leitura? (nota de 0 a 5)\n",
        "característica 2 = O livro é difícil? (nota de 0 a 5)\n",
        "característica 3 = O livro é cheio de fórmulas? (nota de 0 a 5)\n",
        "característica 4 = O livro contém rimas? (nota de 0 a 5)\n",
        "característica 5 = O livro é utópico? (nota de 0 a 5)  \n",
        "'''\n",
        "livro1=[0,5,5,0,0]\n",
        "livro2=[0,5,0,0,0]\n",
        "livro3=[5,5,0,0,0]\n",
        "livro4=[0,0,5,5,0]\n",
        "#classes que sao atribuidas ao livro didatico\n",
        "isDidatico=[0,1,1,0]\n",
        "\n",
        "X=[livro1,livro2,livro3,livro4]\n",
        "y=isDidatico"
      ],
      "metadata": {
        "id": "cCWn76l-Kf7c"
      },
      "execution_count": 17,
      "outputs": []
    },
    {
      "cell_type": "code",
      "source": [
        "!pip install sklearn"
      ],
      "metadata": {
        "colab": {
          "base_uri": "https://localhost:8080/"
        },
        "id": "nSLRZfVBMBPx",
        "outputId": "1c15fa00-607d-4a60-e4fb-88db570e8365"
      },
      "execution_count": 12,
      "outputs": [
        {
          "output_type": "stream",
          "name": "stdout",
          "text": [
            "Looking in indexes: https://pypi.org/simple, https://us-python.pkg.dev/colab-wheels/public/simple/\n",
            "Collecting sklearn\n",
            "  Downloading sklearn-0.0.post1.tar.gz (3.6 kB)\n",
            "Building wheels for collected packages: sklearn\n",
            "  Building wheel for sklearn (setup.py) ... \u001b[?25l\u001b[?25hdone\n",
            "  Created wheel for sklearn: filename=sklearn-0.0.post1-py3-none-any.whl size=2344 sha256=4a1552b9621548f61a24c3315093f2f3c4c5cda1957e8fd820cda91b04920529\n",
            "  Stored in directory: /root/.cache/pip/wheels/14/25/f7/1cc0956978ae479e75140219088deb7a36f60459df242b1a72\n",
            "Successfully built sklearn\n",
            "Installing collected packages: sklearn\n",
            "Successfully installed sklearn-0.0.post1\n"
          ]
        }
      ]
    },
    {
      "cell_type": "code",
      "source": [
        "from sklearn.neighbors import KNeighborsClassifier\n",
        "neigh = KNeighborsClassifier(n_neighbors=3)\n",
        "neigh.fit(X, y)\n",
        "novoLivro=[[0,2,4,0,0]]\n",
        "result=neigh.predict(novoLivro)\n",
        "print(result)\n",
        "if(result==0):\n",
        "  print(\"É didático\")\n",
        "else:\n",
        "  print(\"não é didático\")"
      ],
      "metadata": {
        "colab": {
          "base_uri": "https://localhost:8080/"
        },
        "id": "tcjrKTYhMc-E",
        "outputId": "cd1b0431-8c9e-4aa8-c3e0-13779bd81f82"
      },
      "execution_count": 16,
      "outputs": [
        {
          "output_type": "stream",
          "name": "stdout",
          "text": [
            "[0]\n",
            "É didático\n"
          ]
        }
      ]
    },
    {
      "cell_type": "markdown",
      "source": [
        "# **Exemplo Extra**"
      ],
      "metadata": {
        "id": "Oxrn32hqOurD"
      }
    },
    {
      "cell_type": "markdown",
      "source": [
        "fonte: https://scikit-learn.org/0.15/auto_examples/neighbors/plot_classification.html"
      ],
      "metadata": {
        "id": "qAdn4kfqO3L3"
      }
    },
    {
      "cell_type": "code",
      "source": [
        "import numpy as np\n",
        "import matplotlib.pyplot as plt\n",
        "from matplotlib.colors import ListedColormap\n",
        "from sklearn import neighbors, datasets\n",
        "\n",
        "n_neighbors = 15\n",
        "\n",
        "# import some data to play with\n",
        "iris = datasets.load_iris()\n",
        "X = iris.data[:, :2]  # we only take the first two features. We could\n",
        "                      # avoid this ugly slicing by using a two-dim dataset\n",
        "y = iris.target\n",
        "\n",
        "h = .02  # step size in the mesh\n",
        "\n",
        "# Create color maps\n",
        "cmap_light = ListedColormap(['#FFAAAA', '#AAFFAA', '#AAAAFF'])\n",
        "cmap_bold = ListedColormap(['#FF0000', '#00FF00', '#0000FF'])\n",
        "\n",
        "for weights in ['uniform', 'distance']:\n",
        "    # we create an instance of Neighbours Classifier and fit the data.\n",
        "    clf = neighbors.KNeighborsClassifier(n_neighbors, weights=weights)\n",
        "    clf.fit(X, y)\n",
        "\n",
        "    # Plot the decision boundary. For that, we will assign a color to each\n",
        "    # point in the mesh [x_min, m_max]x[y_min, y_max].\n",
        "    x_min, x_max = X[:, 0].min() - 1, X[:, 0].max() + 1\n",
        "    y_min, y_max = X[:, 1].min() - 1, X[:, 1].max() + 1\n",
        "    xx, yy = np.meshgrid(np.arange(x_min, x_max, h),\n",
        "                         np.arange(y_min, y_max, h))\n",
        "    Z = clf.predict(np.c_[xx.ravel(), yy.ravel()])\n",
        "\n",
        "    # Put the result into a color plot\n",
        "    Z = Z.reshape(xx.shape)\n",
        "    plt.figure()\n",
        "    plt.pcolormesh(xx, yy, Z, cmap=cmap_light)\n",
        "\n",
        "    # Plot also the training points\n",
        "    plt.scatter(X[:, 0], X[:, 1], c=y, cmap=cmap_bold)\n",
        "    plt.xlim(xx.min(), xx.max())\n",
        "    plt.ylim(yy.min(), yy.max())\n",
        "    plt.title(\"3-Class classification (k = %i, weights = '%s')\"\n",
        "              % (n_neighbors, weights))\n",
        "\n",
        "plt.show()"
      ],
      "metadata": {
        "colab": {
          "base_uri": "https://localhost:8080/",
          "height": 545
        },
        "id": "VpeMegWPNEA9",
        "outputId": "14583ea0-49e0-4af1-e11f-535fdaad2948"
      },
      "execution_count": 18,
      "outputs": [
        {
          "output_type": "display_data",
          "data": {
            "text/plain": [
              "<Figure size 432x288 with 1 Axes>"
            ],
            "image/png": "[encoded data removed]"
          },
          "metadata": {
            "needs_background": "light"
          }
        },
        {
          "output_type": "display_data",
          "data": {
            "text/plain": [
              "<Figure size 432x288 with 1 Axes>"
            ],
            "image/png": "[encoded data removed]"
          },
          "metadata": {
            "needs_background": "light"
          }
        }
      ]
    }
  ]
}