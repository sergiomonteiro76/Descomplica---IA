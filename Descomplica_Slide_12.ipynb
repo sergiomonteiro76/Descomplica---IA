{
  "nbformat": 4,
  "nbformat_minor": 0,
  "metadata": {
    "colab": {
      "provenance": []
    },
    "kernelspec": {
      "name": "python3",
      "display_name": "Python 3"
    },
    "language_info": {
      "name": "python"
    }
  },
  "cells": [
    {
      "cell_type": "markdown",
      "source": [
        "# **Introducao ao Python**\n",
        "\n",
        "**prof: Sergio Assuncao Monteiro, DSc**\n",
        "\n",
        "linkedin: https://www.linkedin.com/in/sergio-assun%C3%A7%C3%A3o-monteiro-b781897b/\n",
        "\n",
        "lattes: http://lattes.cnpq.br/9489191035734025"
      ],
      "metadata": {
        "id": "lfJjC9-kdtzY"
      }
    },
    {
      "cell_type": "markdown",
      "source": [
        "**Aula 12**"
      ],
      "metadata": {
        "id": "FY8MB1aHZ9Ts"
      }
    },
    {
      "cell_type": "markdown",
      "source": [
        "**Exemplo de String**"
      ],
      "metadata": {
        "id": "xvt71JCNaEeA"
      }
    },
    {
      "cell_type": "code",
      "execution_count": 24,
      "metadata": {
        "colab": {
          "base_uri": "https://localhost:8080/"
        },
        "id": "2k31ZzGlZzWG",
        "outputId": "f64dda4d-3d04-4a7e-e907-9845b4136148"
      },
      "outputs": [
        {
          "output_type": "stream",
          "name": "stdout",
          "text": [
            "M\n",
            "Maria\n",
            "aria da Silva\n",
            "a\n",
            "Maria da Silv\n",
            "l\n"
          ]
        }
      ],
      "source": [
        "nome = 'Maria da Silva'\n",
        "print(nome[0])   # M\n",
        "print(nome[0:5]) # Maria\n",
        "print(nome[1:])  # aria da Silva\n",
        "print(nome[-1])  # a\n",
        "print(nome[:-1]) # Maria da Silv\n",
        "print(nome[-3])  # l"
      ]
    },
    {
      "cell_type": "markdown",
      "source": [
        "**Algumas funções**"
      ],
      "metadata": {
        "id": "6ID5iUzmaSIg"
      }
    },
    {
      "cell_type": "code",
      "source": [
        "nome = 'Maria da Silva'\n",
        "print('Métodos:')\n",
        "print(nome.find('x'))  # -1\n",
        "print(nome.upper())    # MARIA DA SILVA\n",
        "print(nome.lower())    # maria da silva\n",
        "print(nome.index('a')) # 1\n",
        "print(nome.index('x')) # dá erro! #Vamos aprender a corrigir!!!!\n"
      ],
      "metadata": {
        "colab": {
          "base_uri": "https://localhost:8080/",
          "height": 287
        },
        "id": "jERQpS_8aTy2",
        "outputId": "01a92724-e347-4151-d9e8-7778afcf2b7f"
      },
      "execution_count": 25,
      "outputs": [
        {
          "output_type": "stream",
          "name": "stdout",
          "text": [
            "Métodos:\n",
            "-1\n",
            "MARIA DA SILVA\n",
            "maria da silva\n",
            "1\n"
          ]
        },
        {
          "output_type": "error",
          "ename": "ValueError",
          "evalue": "ignored",
          "traceback": [
            "\u001b[0;31m---------------------------------------------------------------------------\u001b[0m",
            "\u001b[0;31mValueError\u001b[0m                                Traceback (most recent call last)",
            "\u001b[0;32m<ipython-input-25-30cfa75502f9>\u001b[0m in \u001b[0;36m<module>\u001b[0;34m\u001b[0m\n\u001b[1;32m      5\u001b[0m \u001b[0mprint\u001b[0m\u001b[0;34m(\u001b[0m\u001b[0mnome\u001b[0m\u001b[0;34m.\u001b[0m\u001b[0mlower\u001b[0m\u001b[0;34m(\u001b[0m\u001b[0;34m)\u001b[0m\u001b[0;34m)\u001b[0m    \u001b[0;31m# maria da silva\u001b[0m\u001b[0;34m\u001b[0m\u001b[0;34m\u001b[0m\u001b[0m\n\u001b[1;32m      6\u001b[0m \u001b[0mprint\u001b[0m\u001b[0;34m(\u001b[0m\u001b[0mnome\u001b[0m\u001b[0;34m.\u001b[0m\u001b[0mindex\u001b[0m\u001b[0;34m(\u001b[0m\u001b[0;34m'a'\u001b[0m\u001b[0;34m)\u001b[0m\u001b[0;34m)\u001b[0m \u001b[0;31m# 1\u001b[0m\u001b[0;34m\u001b[0m\u001b[0;34m\u001b[0m\u001b[0m\n\u001b[0;32m----> 7\u001b[0;31m \u001b[0mprint\u001b[0m\u001b[0;34m(\u001b[0m\u001b[0mnome\u001b[0m\u001b[0;34m.\u001b[0m\u001b[0mindex\u001b[0m\u001b[0;34m(\u001b[0m\u001b[0;34m'x'\u001b[0m\u001b[0;34m)\u001b[0m\u001b[0;34m)\u001b[0m \u001b[0;31m# dá erro! #Vamos aprender a corrigir!!!!\u001b[0m\u001b[0;34m\u001b[0m\u001b[0;34m\u001b[0m\u001b[0m\n\u001b[0m",
            "\u001b[0;31mValueError\u001b[0m: substring not found"
          ]
        }
      ]
    },
    {
      "cell_type": "code",
      "source": [
        "try:\n",
        "  print(nome.index('x')) # dá erro!\n",
        "except:  \n",
        "  print(f\"\"\"A substring  'x' não conta na palavra {nome}\"\"\") # dá erro!"
      ],
      "metadata": {
        "colab": {
          "base_uri": "https://localhost:8080/"
        },
        "id": "bhq4KRIZatgT",
        "outputId": "73d8615f-fe8e-45ae-e0c0-f49c589a3c09"
      },
      "execution_count": 27,
      "outputs": [
        {
          "output_type": "stream",
          "name": "stdout",
          "text": [
            "A substring  'x' não conta na palavra Maria da Silva\n"
          ]
        }
      ]
    },
    {
      "cell_type": "markdown",
      "source": [
        "**Listas**"
      ],
      "metadata": {
        "id": "NzDRgtA6bIYV"
      }
    },
    {
      "cell_type": "code",
      "source": [
        "# Criando listas:\n",
        "\n",
        "l = []  # cria uma lista vazia\n",
        "x = [10, 15, 20]  # cria uma lista com três elementos\n",
        "x.append(int(input('Digite um número para a lista: '))) # 8\n",
        "\n",
        "# imprimindo cada elemento da lista:                  \n",
        "print(x[0])  # 10\n",
        "print(x[1])  # 15\n",
        "print(x[2])  # 20\n",
        "# incluindo um valor para a lista l:\n",
        "l.append('José')\n",
        "l.append('Maria')\n",
        "\n",
        "print(x)  # [10, 15, 20, 8]\n",
        "print(l)  # ['José', 'Maria']\n",
        "\n",
        "print(x[1:3])  # [15,20]\n",
        "print(len(x))  # 4\n",
        "del(x[1])\n",
        "print(x)  # [10, 20, 8] ,pois excluiu o 15, que estava no índice 1"
      ],
      "metadata": {
        "colab": {
          "base_uri": "https://localhost:8080/"
        },
        "id": "qzOXVaIEa_o2",
        "outputId": "20e7e079-ad1e-48f9-b306-78f30ed07a7a"
      },
      "execution_count": 26,
      "outputs": [
        {
          "output_type": "stream",
          "name": "stdout",
          "text": [
            "Digite um número para a lista: 10\n",
            "10\n",
            "15\n",
            "20\n",
            "[10, 15, 20, 10]\n",
            "['José', 'Maria']\n",
            "[15, 20]\n",
            "4\n",
            "[10, 20, 10]\n"
          ]
        }
      ]
    },
    {
      "cell_type": "markdown",
      "source": [
        "**Tuplas**"
      ],
      "metadata": {
        "id": "GFlovtRvbmyI"
      }
    },
    {
      "cell_type": "code",
      "source": [
        "tupla = (1, 2, 3, 4, 5)\n",
        "t1 = 'a', 'b', 'c', 40, 50\n",
        "print(tupla) \n",
        "print(t1)    \n",
        "\n",
        "# particionando a tupla:\n",
        "print(f'tupla[1:4]: {tupla[1:4]}')  \n",
        "# tupla com lista:\n",
        "t2 = (10, [20, 30, 40])\n",
        "print(f'tupla t2: {t2}')  \n",
        "print('Tamanho da tupla: ',len(t2))  \n",
        "t2[1].append(50)\n",
        "print(f'tupla t2: {t2}')  \n",
        "print(t2)"
      ],
      "metadata": {
        "colab": {
          "base_uri": "https://localhost:8080/"
        },
        "id": "pwusMcpAbpKo",
        "outputId": "138af92a-5b6b-4db1-904b-28fcfecd82ef"
      },
      "execution_count": 28,
      "outputs": [
        {
          "output_type": "stream",
          "name": "stdout",
          "text": [
            "(1, 2, 3, 4, 5)\n",
            "('a', 'b', 'c', 40, 50)\n",
            "tupla[1:4]: (2, 3, 4)\n",
            "tupla t2: (10, [20, 30, 40])\n",
            "Tamanho da tupla:  2\n",
            "tupla t2: (10, [20, 30, 40, 50])\n",
            "(10, [20, 30, 40, 50])\n"
          ]
        }
      ]
    },
    {
      "cell_type": "markdown",
      "source": [
        "**Dicionários**"
      ],
      "metadata": {
        "id": "rSTJMozOc3ZL"
      }
    },
    {
      "cell_type": "code",
      "source": [
        "produtos = {'Lápis': 1.50,\n",
        "            'Caderno': 15.00,\n",
        "            'Caneta': 2.50,\n",
        "            'Borracha': 5.00}\n",
        "print(produtos)\n",
        "# alterando o preço do caderno:\n",
        "produtos['Caderno'] = 20.00\n",
        "print(produtos)\n",
        "#incluindo um produto:\n",
        "produtos['Livro'] = 50.00\n",
        "print(produtos)\n",
        "print('Preço do lápis:', produtos['Lápis'])\n",
        "# verificando se uma chave existe:\n",
        "print('Caderno' in produtos)\n",
        "print('Gibi' in produtos)\n",
        "print(produtos.keys())  # mostra as chaves\n",
        "print(produtos.values()) # mostra os valores\n",
        "print(produtos.items())\n",
        "del(produtos['Caderno'])\n",
        "print(produtos)"
      ],
      "metadata": {
        "colab": {
          "base_uri": "https://localhost:8080/"
        },
        "id": "pJjam-K-dCwe",
        "outputId": "8c7aef97-ea14-4c16-c944-0a8dd194acc0"
      },
      "execution_count": 29,
      "outputs": [
        {
          "output_type": "stream",
          "name": "stdout",
          "text": [
            "{'Lápis': 1.5, 'Caderno': 15.0, 'Caneta': 2.5, 'Borracha': 5.0}\n",
            "{'Lápis': 1.5, 'Caderno': 20.0, 'Caneta': 2.5, 'Borracha': 5.0}\n",
            "{'Lápis': 1.5, 'Caderno': 20.0, 'Caneta': 2.5, 'Borracha': 5.0, 'Livro': 50.0}\n",
            "Preço do lápis: 1.5\n",
            "True\n",
            "False\n",
            "dict_keys(['Lápis', 'Caderno', 'Caneta', 'Borracha', 'Livro'])\n",
            "dict_values([1.5, 20.0, 2.5, 5.0, 50.0])\n",
            "dict_items([('Lápis', 1.5), ('Caderno', 20.0), ('Caneta', 2.5), ('Borracha', 5.0), ('Livro', 50.0)])\n",
            "{'Lápis': 1.5, 'Caneta': 2.5, 'Borracha': 5.0, 'Livro': 50.0}\n"
          ]
        }
      ]
    },
    {
      "cell_type": "markdown",
      "source": [
        "**Exercício: Vamos fazer um programa que cria uma lista, uma tupla e um dicionário.**"
      ],
      "metadata": {
        "id": "al9VWSlkeHJi"
      }
    },
    {
      "cell_type": "code",
      "source": [
        "# Lista:\n",
        "lista=[]\n",
        "# Tupla:\n",
        "tupla = (10, 20, 30, 40)\n",
        "# Dicionário\n",
        "dicionario = {'Arroz': 23.50, 'Feijão': 10.00, \"Tomate\": 4.99}\n",
        "\n",
        "lista.append(int(input('Digite um número: ')))\n",
        "lista.append(int(input('Digite um número: ')))\n",
        "lista.append(int(input('Digite um número: ')))\n",
        "dicionario['Alface'] = 3.50\n",
        "print(f'lista: {lista}')\n",
        "print(f'tupla: {tupla}')\n",
        "print(f'dicionario: {dicionario}')"
      ],
      "metadata": {
        "colab": {
          "base_uri": "https://localhost:8080/"
        },
        "id": "bHD9d7MieN0R",
        "outputId": "5d28804e-7acd-401a-a8a2-b66aeb8d71e9"
      },
      "execution_count": 30,
      "outputs": [
        {
          "output_type": "stream",
          "name": "stdout",
          "text": [
            "Digite um número: 8\n",
            "Digite um número: 5\n",
            "Digite um número: 3\n",
            "lista: [8, 5, 3]\n",
            "tupla: (10, 20, 30, 40)\n",
            "dicionario: {'Arroz': 23.5, 'Feijão': 10.0, 'Tomate': 4.99, 'Alface': 3.5}\n"
          ]
        }
      ]
    },
    {
      "cell_type": "markdown",
      "source": [
        "**Exercício: Faça um programa que cria uma lista, uma tupla e um dicionário. A lista deverá ser de 3 números inteiros digitados pelo usuário, a tupla com 5 números inteiros e o dicionário de 3 pessoas com suas idades. Ao final, mostrar todos os dados.**"
      ],
      "metadata": {
        "id": "SjbCUQEZe5tx"
      }
    },
    {
      "cell_type": "code",
      "source": [
        "# Lista:\n",
        "lista=[]\n",
        "lista.append(int(input('Digite o primeiro número: ')))\n",
        "lista.append(int(input('Digite o segundo número: ')))\n",
        "lista.append(int(input('Digite o terceiro número: ')))"
      ],
      "metadata": {
        "colab": {
          "base_uri": "https://localhost:8080/"
        },
        "id": "5zCo0T6HgQSi",
        "outputId": "e5d21680-083e-49d2-893f-d4385834e858"
      },
      "execution_count": 31,
      "outputs": [
        {
          "name": "stdout",
          "output_type": "stream",
          "text": [
            "Digite o primeiro número: 2\n",
            "Digite o segundo número: 5\n",
            "Digite o terceiro número: 9\n"
          ]
        }
      ]
    },
    {
      "cell_type": "code",
      "source": [
        "print(f'lista = {lista}')"
      ],
      "metadata": {
        "colab": {
          "base_uri": "https://localhost:8080/"
        },
        "id": "cS-kNPf4iFR9",
        "outputId": "f007b835-a68f-4618-8bca-34c323dd9023"
      },
      "execution_count": 32,
      "outputs": [
        {
          "output_type": "stream",
          "name": "stdout",
          "text": [
            "lista = [2, 5, 9]\n"
          ]
        }
      ]
    },
    {
      "cell_type": "code",
      "source": [
        "# Tupla:\n",
        "tupla = (1, 5, 7, 18, 23)"
      ],
      "metadata": {
        "id": "OjtcvrrJhU5t"
      },
      "execution_count": 33,
      "outputs": []
    },
    {
      "cell_type": "code",
      "source": [
        "print(f'tupla = {tupla}')"
      ],
      "metadata": {
        "colab": {
          "base_uri": "https://localhost:8080/"
        },
        "id": "A93amLgNiNxz",
        "outputId": "0cb63339-7fc5-4ddb-86e3-1ee73e3f3246"
      },
      "execution_count": 34,
      "outputs": [
        {
          "output_type": "stream",
          "name": "stdout",
          "text": [
            "tupla = (1, 5, 7, 18, 23)\n"
          ]
        }
      ]
    },
    {
      "cell_type": "code",
      "source": [
        "# Dicionário\n",
        "dicionario = {'Sérgio': 46, 'Ana': 20, \"Maria\": 41}"
      ],
      "metadata": {
        "id": "2pbJIi9_iYsZ"
      },
      "execution_count": 35,
      "outputs": []
    },
    {
      "cell_type": "code",
      "source": [
        "dicionario"
      ],
      "metadata": {
        "colab": {
          "base_uri": "https://localhost:8080/"
        },
        "id": "JkFzk_j6ihof",
        "outputId": "e157518f-9d33-4c8e-ae3e-ee8c8efdd2cf"
      },
      "execution_count": 36,
      "outputs": [
        {
          "output_type": "execute_result",
          "data": {
            "text/plain": [
              "{'Sérgio': 46, 'Ana': 20, 'Maria': 41}"
            ]
          },
          "metadata": {},
          "execution_count": 36
        }
      ]
    }
  ]
}