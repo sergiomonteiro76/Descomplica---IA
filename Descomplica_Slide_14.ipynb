{
  "nbformat": 4,
  "nbformat_minor": 0,
  "metadata": {
    "colab": {
      "provenance": []
    },
    "kernelspec": {
      "name": "python3",
      "display_name": "Python 3"
    },
    "language_info": {
      "name": "python"
    }
  },
  "cells": [
    {
      "cell_type": "markdown",
      "source": [
        "# **Módulos e Matrizes em Python**\n",
        "\n",
        "**prof: Sergio Assuncao Monteiro, DSc**\n",
        "\n",
        "linkedin: https://www.linkedin.com/in/sergio-assun%C3%A7%C3%A3o-monteiro-b781897b/\n",
        "\n",
        "lattes: http://lattes.cnpq.br/9489191035734025"
      ],
      "metadata": {
        "id": "rg8V8yuD--6-"
      }
    },
    {
      "cell_type": "markdown",
      "source": [
        "**Exemplo de vetor**"
      ],
      "metadata": {
        "id": "S6-3H_Th_XRJ"
      }
    },
    {
      "cell_type": "code",
      "execution_count": null,
      "metadata": {
        "id": "yzl_6sbC-yX5"
      },
      "outputs": [],
      "source": [
        "# Exemplo de vetor\n",
        "num = [1, 2, 3, 4, 5]\n",
        "print (num)\n",
        "#Mostrando pelo for:\n",
        "for x in num:\n",
        "    print(x,end=' ')\n"
      ]
    },
    {
      "cell_type": "markdown",
      "source": [
        "**Exemplo de vetor 2:**"
      ],
      "metadata": {
        "id": "_RrpMwKT_abw"
      }
    },
    {
      "cell_type": "code",
      "source": [
        "# Exemplo de vetor:\n",
        "num = [0,0,0,0,0]\n",
        "for i in range(5):\n",
        "    num[i] = int(input('Digite um número: '))\n",
        "\n",
        "print(num)"
      ],
      "metadata": {
        "colab": {
          "base_uri": "https://localhost:8080/"
        },
        "id": "G_ZMLrKn_jJV",
        "outputId": "8e05848a-d866-4a31-ef89-51ab4d515b62"
      },
      "execution_count": 1,
      "outputs": [
        {
          "output_type": "stream",
          "name": "stdout",
          "text": [
            "Digite um número: 2\n",
            "Digite um número: 8\n",
            "Digite um número: 1\n",
            "Digite um número: 0\n",
            "Digite um número: 7\n",
            "[2, 8, 1, 0, 7]\n"
          ]
        }
      ]
    },
    {
      "cell_type": "markdown",
      "source": [
        "**Exemplo de Matriz**"
      ],
      "metadata": {
        "id": "m0itIbjK_p-1"
      }
    },
    {
      "cell_type": "code",
      "source": [
        "# Exemplo de Matriz:\n",
        "matriz = [[0,0],[0,0],[0,0]]\n",
        "print(matriz)\n",
        "for i in range(3):\n",
        "    for j in range(2):\n",
        "        matriz[i][j] = int(input('Digite um número: '))\n",
        "print(matriz)"
      ],
      "metadata": {
        "colab": {
          "base_uri": "https://localhost:8080/"
        },
        "id": "HjEvyHes_ygT",
        "outputId": "8bb96ca8-a18a-4fe1-b434-b24ee9d05be1"
      },
      "execution_count": 6,
      "outputs": [
        {
          "output_type": "stream",
          "name": "stdout",
          "text": [
            "[[0, 0], [0, 0], [0, 0]]\n",
            "Digite um número: 1\n",
            "Digite um número: 2\n",
            "Digite um número: 2\n",
            "Digite um número: 5\n",
            "Digite um número: 9\n",
            "Digite um número: 4\n",
            "[[1, 2], [2, 5], [9, 4]]\n"
          ]
        }
      ]
    },
    {
      "cell_type": "markdown",
      "source": [
        "**Procedimento sem parâmetro**"
      ],
      "metadata": {
        "id": "5zBscGvgAVwM"
      }
    },
    {
      "cell_type": "code",
      "source": [
        "def ola(nome):\n",
        "    print(\"Olá, \", nome, \"bem-vindo ao estudo de Python\")\n",
        "\n",
        "#módulo principal\n",
        "nome = input('Digite seu nome: ')\n",
        "# chamada do módulo:\n",
        "ola(nome)\n",
        "print('Fim do procedimento')"
      ],
      "metadata": {
        "colab": {
          "base_uri": "https://localhost:8080/"
        },
        "id": "7o4qHiS9AY67",
        "outputId": "ddbf2338-872f-4da6-fb29-5a910b40ff4f"
      },
      "execution_count": 7,
      "outputs": [
        {
          "output_type": "stream",
          "name": "stdout",
          "text": [
            "Digite seu nome: sergio\n",
            "Olá,  sergio bem-vindo ao estudo de Python\n",
            "Fim do procedimento\n"
          ]
        }
      ]
    },
    {
      "cell_type": "markdown",
      "source": [
        "**Função sem parâmetro**"
      ],
      "metadata": {
        "id": "WdhUT7V4A5t9"
      }
    },
    {
      "cell_type": "code",
      "source": [
        "def soma():\n",
        "    n1 = int(input('Digite um número: '))\n",
        "    n2 = int(input('Digite outro número: '))\n",
        "    s = n1+n2\n",
        "    return s\n",
        "\n",
        "#módulo principal:\n",
        "s = soma()\n",
        "print('Resultado da soma: ',s)\n"
      ],
      "metadata": {
        "colab": {
          "base_uri": "https://localhost:8080/"
        },
        "id": "ZaO3UeLBBDrq",
        "outputId": "72d4462e-e433-454b-ccc9-6091b520dab2"
      },
      "execution_count": 8,
      "outputs": [
        {
          "output_type": "stream",
          "name": "stdout",
          "text": [
            "Digite um número: 10\n",
            "Digite outro número: 20\n",
            "Resultado da soma:  30\n"
          ]
        }
      ]
    },
    {
      "cell_type": "markdown",
      "source": [
        "**Função com parâmetro**"
      ],
      "metadata": {
        "id": "L8yemclKBR9Y"
      }
    },
    {
      "cell_type": "code",
      "source": [
        "def soma(n1, n2):\n",
        "    s = n1+n2\n",
        "    return s\n",
        "\n",
        "#módulo principal:\n",
        "n1 = int(input('Digite um número: '))\n",
        "n2 = int(input('Digite outro número: '))\n",
        "s = soma(n1, n2)\n",
        "print('Resultado da soma: ',s)\n"
      ],
      "metadata": {
        "colab": {
          "base_uri": "https://localhost:8080/"
        },
        "id": "PCBM_EU0BRr3",
        "outputId": "10ba69f8-d220-41e9-9aa7-ad1788edb389"
      },
      "execution_count": 9,
      "outputs": [
        {
          "output_type": "stream",
          "name": "stdout",
          "text": [
            "Digite um número: 10\n",
            "Digite outro número: 20\n",
            "Resultado da soma:  30\n"
          ]
        }
      ]
    },
    {
      "cell_type": "markdown",
      "source": [
        "**Exemplo e Atividade Prática 04**"
      ],
      "metadata": {
        "id": "K5oSFAI3BuDb"
      }
    },
    {
      "cell_type": "code",
      "source": [
        "#Exemplo 4\n",
        "def preenche(matriz):\n",
        "  for i in range(3):\n",
        "    for j in range(3):\n",
        "      matriz[i][j]=int(input('Digite um número: '))\n",
        "  matriz\n",
        "  return matriz\n",
        "\n",
        "def verifica_maior(matriz):\n",
        "  maior=matriz[0][0]\n",
        "  for i in range(3):\n",
        "    for j in range(3):\n",
        "      if(matriz[i][j]>maior):\n",
        "        maior=matriz[i][j]\n",
        "  return maior\n",
        "\n",
        "def soma(matriz):\n",
        "  s=0\n",
        "  for i in range(3):\n",
        "    for j in range(3):\n",
        "      s = s + matriz[i][j]\n",
        "  return s\n",
        "\n",
        "#módulo principal\n",
        "preenche(matriz)\n",
        "maior=verifica_maior(matriz)\n",
        "s=soma(matriz)\n",
        "print(matriz)\n",
        "print('Maior valor: ', maior)\n",
        "print('Soma: ',s)"
      ],
      "metadata": {
        "colab": {
          "base_uri": "https://localhost:8080/"
        },
        "id": "CanF8olnBwYq",
        "outputId": "486eaf7b-99d5-4b92-d038-4b40a41150cf"
      },
      "execution_count": 16,
      "outputs": [
        {
          "output_type": "stream",
          "name": "stdout",
          "text": [
            "Digite um número: 1\n",
            "Digite um número: 2\n",
            "Digite um número: 3\n",
            "Digite um número: 4\n",
            "Digite um número: 5\n",
            "Digite um número: 6\n",
            "Digite um número: 4\n",
            "Digite um número: 5\n",
            "Digite um número: 9\n",
            "[[1, 2, 3], [4, 5, 6], [4, 5, 9]]\n",
            "Maior valor:  9\n",
            "Soma:  39\n"
          ]
        }
      ]
    }
  ]
}