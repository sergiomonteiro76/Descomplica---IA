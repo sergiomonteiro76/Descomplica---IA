{
  "nbformat": 4,
  "nbformat_minor": 0,
  "metadata": {
    "colab": {
      "provenance": []
    },
    "kernelspec": {
      "name": "python3",
      "display_name": "Python 3"
    },
    "language_info": {
      "name": "python"
    }
  },
  "cells": [
    {
      "cell_type": "markdown",
      "source": [
        "# **Estruturas de Controle em Python**\n",
        "\n",
        "**prof: Sergio Assuncao Monteiro, DSc**\n",
        "\n",
        "linkedin: https://www.linkedin.com/in/sergio-assun%C3%A7%C3%A3o-monteiro-b781897b/\n",
        "\n",
        "lattes: http://lattes.cnpq.br/9489191035734025"
      ],
      "metadata": {
        "id": "6w_If2hV7x0n"
      }
    },
    {
      "cell_type": "markdown",
      "source": [
        "**Estrutura Condicional**"
      ],
      "metadata": {
        "id": "wlq996ag8dUs"
      }
    },
    {
      "cell_type": "code",
      "source": [
        "primeiro = float(input('Digite um número inteiro: '))\n",
        "segundo = float(input('Digite outro número: '))\n",
        "# Estrutura condicional simples:\n",
        "if primeiro > segundo:\n",
        "    aux = primeiro\n",
        "    primeiro = segundo\n",
        "    segundo = aux\n",
        "print('Números em ordem crescente: ', primeiro, segundo)\n"
      ],
      "metadata": {
        "id": "9GdJ7mQZ73t0"
      },
      "execution_count": null,
      "outputs": []
    },
    {
      "cell_type": "code",
      "source": [
        "numero = int(input('Digite um número: '))\n",
        "if numero % 2 == 0:\n",
        "    print(numero, 'é par')\n",
        "else:\n",
        "    print(numero, 'é ímpar')\n"
      ],
      "metadata": {
        "id": "zVSPMU6y8EGT"
      },
      "execution_count": null,
      "outputs": []
    },
    {
      "cell_type": "code",
      "source": [
        "numero = float(input('Digite um número: '))\n",
        "# estrutura condicional aninhada:\n",
        "if numero > 0:\n",
        "    print(numero, 'é positivo')\n",
        "elif numero < 0:\n",
        "    print(numero, 'é negativo')\n",
        "else:\n",
        "    print(numero, 'é zero')\n"
      ],
      "metadata": {
        "id": "I6SeBUB58WbH"
      },
      "execution_count": null,
      "outputs": []
    },
    {
      "cell_type": "markdown",
      "source": [
        "**Estrutura de Repetição**"
      ],
      "metadata": {
        "id": "mUADYr898h09"
      }
    },
    {
      "cell_type": "code",
      "source": [
        "#Exemplo de for\n",
        "for i in range(11):\n",
        "    print(i, end=' ')\n"
      ],
      "metadata": {
        "colab": {
          "base_uri": "https://localhost:8080/"
        },
        "id": "ENwT5LUR8ks0",
        "outputId": "57aa2eff-25e0-4c23-ee87-05f3b9bb83d7"
      },
      "execution_count": null,
      "outputs": [
        {
          "output_type": "stream",
          "name": "stdout",
          "text": [
            "0 1 2 3 4 5 6 7 8 9 10 "
          ]
        }
      ]
    },
    {
      "cell_type": "code",
      "source": [
        "#Segundo exemplo de for\n",
        "numero = int(input('Digite um número: '))\n",
        "print('Tabuada do ', numero)\n",
        "for i in range(1, 11):\n",
        "    print(i, 'x', numero, '=', i*numero)\n"
      ],
      "metadata": {
        "colab": {
          "base_uri": "https://localhost:8080/"
        },
        "id": "J1pS3kCW84rg",
        "outputId": "dc65e28e-1d4c-43f3-8baf-6ed998784c5a"
      },
      "execution_count": null,
      "outputs": [
        {
          "output_type": "stream",
          "name": "stdout",
          "text": [
            "Digite um número: 10\n",
            "Tabuada do  10\n",
            "1 x 10 = 10\n",
            "2 x 10 = 20\n",
            "3 x 10 = 30\n",
            "4 x 10 = 40\n",
            "5 x 10 = 50\n",
            "6 x 10 = 60\n",
            "7 x 10 = 70\n",
            "8 x 10 = 80\n",
            "9 x 10 = 90\n",
            "10 x 10 = 100\n"
          ]
        }
      ]
    },
    {
      "cell_type": "code",
      "source": [
        "#Fatorial\n",
        "numero = int(input('Digite um número: '))\n",
        "f = 1\n",
        "for i in range(numero, 1, -1):\n",
        "  f = f * i\n",
        "print('O fatorial do número é: ', f)  "
      ],
      "metadata": {
        "colab": {
          "base_uri": "https://localhost:8080/"
        },
        "id": "Dkdk5i0e9VmC",
        "outputId": "880f97fe-578a-4389-c854-d5847171b077"
      },
      "execution_count": null,
      "outputs": [
        {
          "output_type": "stream",
          "name": "stdout",
          "text": [
            "Digite um número: 5\n",
            "O fatorial do número é:  120\n"
          ]
        }
      ]
    },
    {
      "cell_type": "code",
      "source": [
        "#estrutura while\n",
        "i = 0\n",
        "soma=0\n",
        "while(i<=10):\n",
        "  print(i, end=' ')\n",
        "  soma = soma + i\n",
        "  i = i + 1\n",
        "print('\\nSoma: ', soma)  "
      ],
      "metadata": {
        "colab": {
          "base_uri": "https://localhost:8080/"
        },
        "id": "IOsVlQYi9wst",
        "outputId": "11757519-0297-4a90-a106-514ca6d50c98"
      },
      "execution_count": null,
      "outputs": [
        {
          "output_type": "stream",
          "name": "stdout",
          "text": [
            "0 1 2 3 4 5 6 7 8 9 10 \n",
            "Soma:  55\n"
          ]
        }
      ]
    },
    {
      "cell_type": "markdown",
      "source": [
        "**Prática 03**"
      ],
      "metadata": {
        "id": "xrOi1P27-UE-"
      }
    },
    {
      "cell_type": "code",
      "source": [
        "numeros = []\n",
        "soma = 0\n",
        "media = 0.0\n",
        "cont = 0\n",
        "numero = 1\n",
        "while numero != 0:\n",
        "    numero = int(input('Digite um número: '))\n",
        "    if numero != 0:\n",
        "        numeros.append(numero)\n",
        "        soma=soma+numero\n",
        "        cont=cont+1\n",
        "media = soma/cont\n",
        "print('Números digitados: ')\n",
        "print(numeros)\n",
        "print('Soma: ',soma,' média: ',media)\n",
        "      \n",
        "    \n"
      ],
      "metadata": {
        "colab": {
          "base_uri": "https://localhost:8080/"
        },
        "id": "Tim9LVkq-Zl0",
        "outputId": "88068e1c-e0ed-4a33-a925-94acbbb298ac"
      },
      "execution_count": null,
      "outputs": [
        {
          "output_type": "stream",
          "name": "stdout",
          "text": [
            "Digite um número: 5\n",
            "Digite um número: 6\n",
            "Digite um número: 4\n",
            "Digite um número: 8\n",
            "Digite um número: 3\n",
            "Digite um número: 7\n",
            "Digite um número: 8\n",
            "Digite um número: 7\n",
            "Digite um número: 1\n",
            "Digite um número: 0\n",
            "Números digitados: \n",
            "[5, 6, 4, 8, 3, 7, 8, 7, 1]\n",
            "Soma:  49  média:  5.444444444444445\n"
          ]
        }
      ]
    }
  ]
}