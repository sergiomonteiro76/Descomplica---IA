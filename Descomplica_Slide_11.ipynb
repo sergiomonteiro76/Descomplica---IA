{
  "nbformat": 4,
  "nbformat_minor": 0,
  "metadata": {
    "colab": {
      "provenance": []
    },
    "kernelspec": {
      "name": "python3",
      "display_name": "Python 3"
    },
    "language_info": {
      "name": "python"
    }
  },
  "cells": [
    {
      "cell_type": "markdown",
      "source": [
        "# **Introducao ao Python**\n",
        "\n",
        "**prof: Sergio Assuncao Monteiro, DSc**\n",
        "\n",
        "linkedin: https://www.linkedin.com/in/sergio-assun%C3%A7%C3%A3o-monteiro-b781897b/\n",
        "\n",
        "lattes: http://lattes.cnpq.br/9489191035734025"
      ],
      "metadata": {
        "id": "LZIgd5Addvhy"
      }
    },
    {
      "cell_type": "markdown",
      "source": [
        "**Aula 11**"
      ],
      "metadata": {
        "id": "w_Hd8R5t_pSx"
      }
    },
    {
      "cell_type": "markdown",
      "source": [
        "**Modo Shell (Parte 1)**"
      ],
      "metadata": {
        "id": "0k0hYtHTFkwD"
      }
    },
    {
      "cell_type": "code",
      "execution_count": 17,
      "metadata": {
        "colab": {
          "base_uri": "https://localhost:8080/"
        },
        "id": "BSbQxlC496N7",
        "outputId": "e68ab640-22c6-4abd-dbe8-6679eabbd19a"
      },
      "outputs": [
        {
          "output_type": "execute_result",
          "data": {
            "text/plain": [
              "15"
            ]
          },
          "metadata": {},
          "execution_count": 17
        }
      ],
      "source": [
        "5 + 10"
      ]
    },
    {
      "cell_type": "markdown",
      "source": [
        "**Modo Script**"
      ],
      "metadata": {
        "id": "dfgd8zWgHYe1"
      }
    },
    {
      "cell_type": "code",
      "source": [
        "n1=10\n",
        "n2=35\n",
        "#operadores aritmeticos\n",
        "soma = n1 + n2\n",
        "modulo = n2 % n1\n",
        "quociente = n2 // n1\n",
        "print(\"Soma:\", soma)\n",
        "print(\"Módulo\", modulo)\n",
        "print(\"Quociente\", quociente)\n",
        "#operadores de atribuicao\n",
        "n1+=n2 #n1 = n1 + n2\n",
        "n2*=5 #n2 = n2 *5\n",
        "print(f\"n1= {n1}\")\n",
        "print(f\"n2= {n2}\")"
      ],
      "metadata": {
        "colab": {
          "base_uri": "https://localhost:8080/"
        },
        "id": "XmTzv9MhHbI1",
        "outputId": "20e1226b-798e-45e2-d525-3d6cde603a53"
      },
      "execution_count": 18,
      "outputs": [
        {
          "output_type": "stream",
          "name": "stdout",
          "text": [
            "Soma: 45\n",
            "Módulo 5\n",
            "Quociente 3\n",
            "n1= 45\n",
            "n2= 175\n"
          ]
        }
      ]
    },
    {
      "cell_type": "markdown",
      "source": [
        "**Modo Iterativo**"
      ],
      "metadata": {
        "id": "4XpsMbOWGxSd"
      }
    },
    {
      "cell_type": "code",
      "source": [
        "numero=10"
      ],
      "metadata": {
        "id": "lVwgurtVG1Ss"
      },
      "execution_count": 19,
      "outputs": []
    },
    {
      "cell_type": "code",
      "source": [
        "soma = numero + 20"
      ],
      "metadata": {
        "id": "n-EecwsJG3Kr"
      },
      "execution_count": 20,
      "outputs": []
    },
    {
      "cell_type": "code",
      "source": [
        "print(soma)"
      ],
      "metadata": {
        "colab": {
          "base_uri": "https://localhost:8080/"
        },
        "id": "b7FLQuZnG5L7",
        "outputId": "5971ca76-8dc5-4411-ee49-d73a966211f2"
      },
      "execution_count": 21,
      "outputs": [
        {
          "output_type": "stream",
          "name": "stdout",
          "text": [
            "30\n"
          ]
        }
      ]
    },
    {
      "cell_type": "markdown",
      "source": [
        "**Meu Primeiro Programa (Parte 2)**"
      ],
      "metadata": {
        "id": "PLi4SafvGfLQ"
      }
    },
    {
      "cell_type": "code",
      "source": [
        "# Primeiro programa (comentário de uma linha)\n",
        "'''\n",
        "Aqui vamos comentar o programa\n",
        "em várias linhas\n",
        "'''\n",
        "\n",
        "print (\"Meu primeiro programa em Python\")\n"
      ],
      "metadata": {
        "colab": {
          "base_uri": "https://localhost:8080/"
        },
        "id": "as7g0gT-GhpQ",
        "outputId": "73234080-67c9-4329-c4a9-f6c5eb0d51f4"
      },
      "execution_count": 22,
      "outputs": [
        {
          "output_type": "stream",
          "name": "stdout",
          "text": [
            "Meu primeiro programa em Python\n"
          ]
        }
      ]
    },
    {
      "cell_type": "markdown",
      "source": [
        "**Meu primeiro Programa (Parte 3)**"
      ],
      "metadata": {
        "id": "SeJGJiPGM1BN"
      }
    },
    {
      "cell_type": "code",
      "source": [
        "#criando as variáveis\n",
        "nome = \"João de Almeida\"\n",
        "idade = 30\n",
        "endereco = \"Avenida Francisco Glicério, 50\"\n",
        "altura = 1.78\n",
        "peso = 59\n",
        "sim = True\n",
        "sexo = \"M\"\n",
        "#Mostrando\n",
        "print(f'Nome:{nome}')\n",
        "print(f'Idade: {idade}')\n",
        "print(f'Endereço:{endereco}')\n",
        "print(f'Peso: {peso} kg')"
      ],
      "metadata": {
        "colab": {
          "base_uri": "https://localhost:8080/"
        },
        "id": "pTPYrKf4L0EZ",
        "outputId": "713cc6bf-6eba-4f8a-9bd0-e7c0ef220638"
      },
      "execution_count": 23,
      "outputs": [
        {
          "output_type": "stream",
          "name": "stdout",
          "text": [
            "Nome:João de Almeida\n",
            "Idade: 30\n",
            "Endereço:Avenida Francisco Glicério, 50\n",
            "Peso: 59 kg\n"
          ]
        }
      ]
    },
    {
      "cell_type": "markdown",
      "source": [
        "# **Slide Exemplo e Atividade  - Prática 01**"
      ],
      "metadata": {
        "id": "8q1oGTTfNCP7"
      }
    },
    {
      "cell_type": "code",
      "source": [
        "#entrada:\n",
        "nome = input('Digite o seu nome:')\n",
        "idade = int(input('Digite a sua idade:'))"
      ],
      "metadata": {
        "colab": {
          "base_uri": "https://localhost:8080/"
        },
        "id": "AsotgdzdNF3L",
        "outputId": "253abbb2-2805-4fd9-d7e8-0432de5977a4"
      },
      "execution_count": 24,
      "outputs": [
        {
          "name": "stdout",
          "output_type": "stream",
          "text": [
            "Digite o seu nome:sergio\n",
            "Digite a sua idade:46\n"
          ]
        }
      ]
    },
    {
      "cell_type": "code",
      "source": [
        "#Saída\n",
        "print(f'Nome: {nome}')\n",
        "print(f'Idade: {idade}')"
      ],
      "metadata": {
        "colab": {
          "base_uri": "https://localhost:8080/"
        },
        "id": "RD3O4kgWNVWQ",
        "outputId": "43639139-bd09-4120-d057-7f79d76a3f41"
      },
      "execution_count": 25,
      "outputs": [
        {
          "output_type": "stream",
          "name": "stdout",
          "text": [
            "Nome: sergio\n",
            "Idade: 46\n"
          ]
        }
      ]
    },
    {
      "cell_type": "markdown",
      "source": [
        "**Desafio: tratar exceções**"
      ],
      "metadata": {
        "id": "2jw-ERKoNxP5"
      }
    },
    {
      "cell_type": "code",
      "source": [
        "idade = int(input('Digite a sua idade:')) ### Vamos corrigir!!!"
      ],
      "metadata": {
        "colab": {
          "base_uri": "https://localhost:8080/",
          "height": 183
        },
        "id": "k_83ejkzNwlb",
        "outputId": "b7058759-091c-4286-edda-0fb6ac6658c8"
      },
      "execution_count": 26,
      "outputs": [
        {
          "name": "stdout",
          "output_type": "stream",
          "text": [
            "Digite a sua idade:i\n"
          ]
        },
        {
          "output_type": "error",
          "ename": "ValueError",
          "evalue": "ignored",
          "traceback": [
            "\u001b[0;31m---------------------------------------------------------------------------\u001b[0m",
            "\u001b[0;31mValueError\u001b[0m                                Traceback (most recent call last)",
            "\u001b[0;32m<ipython-input-26-0c8a957acfc2>\u001b[0m in \u001b[0;36m<module>\u001b[0;34m\u001b[0m\n\u001b[0;32m----> 1\u001b[0;31m \u001b[0midade\u001b[0m \u001b[0;34m=\u001b[0m \u001b[0mint\u001b[0m\u001b[0;34m(\u001b[0m\u001b[0minput\u001b[0m\u001b[0;34m(\u001b[0m\u001b[0;34m'Digite a sua idade:'\u001b[0m\u001b[0;34m)\u001b[0m\u001b[0;34m)\u001b[0m \u001b[0;31m### Vamos corrigir!!!\u001b[0m\u001b[0;34m\u001b[0m\u001b[0;34m\u001b[0m\u001b[0m\n\u001b[0m",
            "\u001b[0;31mValueError\u001b[0m: invalid literal for int() with base 10: 'i'"
          ]
        }
      ]
    },
    {
      "cell_type": "code",
      "source": [
        "try:\n",
        "  idade = int(input('Digite a sua idade:'))\n",
        "except:\n",
        "  print('Digite um número válido')  "
      ],
      "metadata": {
        "colab": {
          "base_uri": "https://localhost:8080/"
        },
        "id": "Ne5hB1lzN6Rh",
        "outputId": "4973c2aa-e741-4de5-93a3-69d5aa70a4ae"
      },
      "execution_count": 27,
      "outputs": [
        {
          "name": "stdout",
          "output_type": "stream",
          "text": [
            "Digite a sua idade:25\n"
          ]
        }
      ]
    }
  ]
}